{
 "cells": [
  {
   "cell_type": "code",
   "execution_count": 138,
   "metadata": {},
   "outputs": [],
   "source": [
    "import matplotlib as plt\n",
    "import numpy as np\n",
    "import pandas as pd\n",
    "\n",
    "#Format the Training Data\n",
    "pd.set_option('display.max_colwidth', -1)\n",
    "\n",
    "data = pd.read_table(\"training_original.csv\", sep=\",\", header=0)\n",
    "data2 = pd.read_table(\"training_original.csv\", sep=\",\", header=0)\n",
    "\n",
    "data = pd.concat([data[\"amazon_review_full_csv/\"].str.split(',', 1, expand=True)[0], data[\"amazon_review_full_csv/\"].str.split(',', 1, expand=True)[1]], axis=1)\n",
    "data = pd.concat([data[0], data[1].str.split('\",', 1, expand=True)[0], data[1].str.split('\",', 1, expand=True)[1]], axis=1)\n",
    "\n",
    "data.columns = [\"Rating\", \"Title\", \"Review\"]\n",
    "\n",
    "data[\"Title\"] = data['Title'].astype(str) + \"\\\"\"\n",
    "\n",
    "data.to_csv('training.csv')"
   ]
  },
  {
   "cell_type": "code",
   "execution_count": 139,
   "metadata": {},
   "outputs": [],
   "source": [
    "# Format the Testing Data\n",
    "pd.set_option('display.max_colwidth', -1)\n",
    "\n",
    "data = pd.read_table(\"testing_original.csv\", sep=\",\", header=0)\n",
    "data2 = pd.read_table(\"testing_original.csv\", sep=\",\", header=0)\n",
    "\n",
    "data = pd.concat([data[\"amazon_review_full_csv/\"].str.split(',', 1, expand=True)[0], data[\"amazon_review_full_csv/\"].str.split(',', 1, expand=True)[1]], axis=1)\n",
    "data = pd.concat([data[0], data[1].str.split('\",', 1, expand=True)[0], data[1].str.split('\",', 1, expand=True)[1]], axis=1)\n",
    "\n",
    "data.columns = [\"Rating\", \"Title\", \"Review\"]\n",
    "\n",
    "data[\"Title\"] = data['Title'].astype(str) + \"\\\"\"\n",
    "\n",
    "data.to_csv('testing.csv')"
   ]
  },
  {
   "cell_type": "code",
   "execution_count": 7,
   "metadata": {},
   "outputs": [
    {
     "name": "stdout",
     "output_type": "stream",
     "text": [
      "[nltk_data] Downloading package sentiwordnet to\n",
      "[nltk_data]     C:\\Users\\Kildea\\AppData\\Roaming\\nltk_data...\n",
      "[nltk_data]   Package sentiwordnet is already up-to-date!\n",
      "[nltk_data] Downloading package wordnet to\n",
      "[nltk_data]     C:\\Users\\Kildea\\AppData\\Roaming\\nltk_data...\n",
      "[nltk_data]   Package wordnet is already up-to-date!\n",
      "<breakdown.n.03: PosScore=0.0 NegScore=0.25>\n"
     ]
    }
   ],
   "source": [
    "import nltk\n",
    "nltk.download('sentiwordnet')\n",
    "nltk.download('wordnet')\n",
    "print(swn.senti_synset('breakdown.n.03'))"
   ]
  },
  {
   "cell_type": "code",
   "execution_count": null,
   "metadata": {},
   "outputs": [],
   "source": []
  }
 ],
 "metadata": {
  "kernelspec": {
   "display_name": "Python 3",
   "language": "python",
   "name": "python3"
  },
  "language_info": {
   "codemirror_mode": {
    "name": "ipython",
    "version": 3
   },
   "file_extension": ".py",
   "mimetype": "text/x-python",
   "name": "python",
   "nbconvert_exporter": "python",
   "pygments_lexer": "ipython3",
   "version": "3.6.4"
  }
 },
 "nbformat": 4,
 "nbformat_minor": 2
}
