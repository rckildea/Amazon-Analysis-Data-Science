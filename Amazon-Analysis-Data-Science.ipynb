{
 "cells": [
  {
   "cell_type": "code",
   "execution_count": 1,
   "metadata": {},
   "outputs": [],
   "source": [
    "import matplotlib as plt\n",
    "import numpy as np\n",
    "import pandas as pd\n",
    "import nltk\n",
    "\n",
    "pd.set_option('display.max_colwidth', -1)\n",
    "\n",
    "# Initial file setup\n",
    "training_df = pd.read_csv(\"amazon_review_full_csv.tar.gz\", nrows=10000, compression='gzip', sep=',', quotechar='\"')\n",
    "training_df.columns = [\"Rating\", \"Title\", \"Review\"]\n",
    "training_df.to_csv(\"training.csv\")\n",
    "\n",
    "testing_df = pd.read_csv(\"amazon_review_full_csv.tar.gz\", skiprows=10000, nrows=1000, compression='gzip', sep=',', quotechar='\"')\n",
    "testing_df.columns = [\"Rating\", \"Title\", \"Review\"]\n",
    "testing_df.to_csv(\"testing.csv\")"
   ]
  },
  {
   "cell_type": "code",
   "execution_count": 2,
   "metadata": {},
   "outputs": [],
   "source": [
    "# Read training data\n",
    "training_df = pd.read_csv(\"training.csv\")\n",
    "del training_df[\"Unnamed: 0\"]\n",
    "#training_df.head(10)"
   ]
  },
  {
   "cell_type": "code",
   "execution_count": 3,
   "metadata": {},
   "outputs": [],
   "source": [
    "# Read testing data\n",
    "testing_df = pd.read_csv(\"testing.csv\")\n",
    "del testing_df[\"Unnamed: 0\"]\n",
    "#testing_df.head(10)"
   ]
  },
  {
   "cell_type": "code",
   "execution_count": 4,
   "metadata": {
    "scrolled": true
   },
   "outputs": [
    {
     "data": {
      "text/html": [
       "<div>\n",
       "<style scoped>\n",
       "    .dataframe tbody tr th:only-of-type {\n",
       "        vertical-align: middle;\n",
       "    }\n",
       "\n",
       "    .dataframe tbody tr th {\n",
       "        vertical-align: top;\n",
       "    }\n",
       "\n",
       "    .dataframe thead th {\n",
       "        text-align: right;\n",
       "    }\n",
       "</style>\n",
       "<table border=\"1\" class=\"dataframe\">\n",
       "  <thead>\n",
       "    <tr style=\"text-align: right;\">\n",
       "      <th></th>\n",
       "      <th>Rating</th>\n",
       "      <th>Title</th>\n",
       "      <th>Review</th>\n",
       "    </tr>\n",
       "  </thead>\n",
       "  <tbody>\n",
       "    <tr>\n",
       "      <th>0</th>\n",
       "      <td>5</td>\n",
       "      <td>Inspiring</td>\n",
       "      <td>[I, hope, a, lot, of, people, hear, this, cd, ., We, need, more, strong, and, positive, vibes, like, this, ., Great, vocals, ,, fresh, tunes, ,, cross-cultural, happiness, ., Her, blues, is, from, the, gut, ., The, pop, sounds, are, catchy, and, mature, .]</td>\n",
       "    </tr>\n",
       "    <tr>\n",
       "      <th>1</th>\n",
       "      <td>5</td>\n",
       "      <td>The best soundtrack ever to anything.</td>\n",
       "      <td>[I, 'm, reading, a, lot, of, reviews, saying, that, this, is, the, best, 'game, soundtrack, ', and, I, figured, that, I, 'd, write, a, review, to, disagree, a, bit, ., This, in, my, opinino, is, Yasunori, Mitsuda, 's, ultimate, masterpiece, ., The, music, is, timeless, and, I, 'm, been, listening, to, it, for, years, now, and, its, beauty, simply, refuses, to, fade.The, price, tag, on, this, is, pretty, staggering, I, must, say, ,, but, if, you, are, going, to, buy, any, cd, for, this, much, money, ,, this, is, the, only, one, that, I, feel, would, be, worth, every, penny, ...]</td>\n",
       "    </tr>\n",
       "    <tr>\n",
       "      <th>2</th>\n",
       "      <td>4</td>\n",
       "      <td>Chrono Cross OST</td>\n",
       "      <td>[The, music, of, Yasunori, Misuda, is, without, question, my, close, second, below, the, great, Nobuo, Uematsu.Chrono, Cross, OST, is, a, wonderful, creation, filled, with, rich, orchestra, and, synthesized, sounds, ., While, ambiance, is, one, of, the, music, 's, major, factors, ,, yet, at, times, it, 's, very, uplifting, and, vigorous, ., Some, of, my, favourite, tracks, include, ;, ``, Scars, Left, by, Time, ,, The, Girl, who, Stole, the, Stars, ,, and, Another, World, '', .]</td>\n",
       "    </tr>\n",
       "    <tr>\n",
       "      <th>3</th>\n",
       "      <td>5</td>\n",
       "      <td>Too good to be true</td>\n",
       "      <td>[Probably, the, greatest, soundtrack, in, history, !, Usually, it, 's, better, to, have, played, the, game, first, but, this, is, so, enjoyable, anyway, !, I, worked, so, hard, getting, this, soundtrack, and, after, spending, [, money, ], to, get, it, it, was, really, worth, every, penny, !, !, Get, this, OST, !, it, 's, amazing, !, The, first, few, tracks, will, have, you, dancing, around, with, delight, (, especially, Scars, Left, by, Time, ), !, !, BUY, IT, NOW, !, !]</td>\n",
       "    </tr>\n",
       "    <tr>\n",
       "      <th>4</th>\n",
       "      <td>5</td>\n",
       "      <td>There's a reason for the price</td>\n",
       "      <td>[There, 's, a, reason, this, CD, is, so, expensive, ,, even, the, version, that, 's, not, an, import.Some, of, the, best, music, ever, ., I, could, listen, to, every, track, every, minute, of, every, day, ., That, 's, about, all, i, can, say, .]</td>\n",
       "    </tr>\n",
       "  </tbody>\n",
       "</table>\n",
       "</div>"
      ],
      "text/plain": [
       "   Rating                                  Title  \\\n",
       "0  5       Inspiring                               \n",
       "1  5       The best soundtrack ever to anything.   \n",
       "2  4       Chrono Cross OST                        \n",
       "3  5       Too good to be true                     \n",
       "4  5       There's a reason for the price          \n",
       "\n",
       "                                                                                                                                                                                                                                                                                                                                                                                                                                                                                                                                                                                                     Review  \n",
       "0  [I, hope, a, lot, of, people, hear, this, cd, ., We, need, more, strong, and, positive, vibes, like, this, ., Great, vocals, ,, fresh, tunes, ,, cross-cultural, happiness, ., Her, blues, is, from, the, gut, ., The, pop, sounds, are, catchy, and, mature, .]                                                                                                                                                                                                                                                                                                                                          \n",
       "1  [I, 'm, reading, a, lot, of, reviews, saying, that, this, is, the, best, 'game, soundtrack, ', and, I, figured, that, I, 'd, write, a, review, to, disagree, a, bit, ., This, in, my, opinino, is, Yasunori, Mitsuda, 's, ultimate, masterpiece, ., The, music, is, timeless, and, I, 'm, been, listening, to, it, for, years, now, and, its, beauty, simply, refuses, to, fade.The, price, tag, on, this, is, pretty, staggering, I, must, say, ,, but, if, you, are, going, to, buy, any, cd, for, this, much, money, ,, this, is, the, only, one, that, I, feel, would, be, worth, every, penny, ...]  \n",
       "2  [The, music, of, Yasunori, Misuda, is, without, question, my, close, second, below, the, great, Nobuo, Uematsu.Chrono, Cross, OST, is, a, wonderful, creation, filled, with, rich, orchestra, and, synthesized, sounds, ., While, ambiance, is, one, of, the, music, 's, major, factors, ,, yet, at, times, it, 's, very, uplifting, and, vigorous, ., Some, of, my, favourite, tracks, include, ;, ``, Scars, Left, by, Time, ,, The, Girl, who, Stole, the, Stars, ,, and, Another, World, '', .]                                                                                                       \n",
       "3  [Probably, the, greatest, soundtrack, in, history, !, Usually, it, 's, better, to, have, played, the, game, first, but, this, is, so, enjoyable, anyway, !, I, worked, so, hard, getting, this, soundtrack, and, after, spending, [, money, ], to, get, it, it, was, really, worth, every, penny, !, !, Get, this, OST, !, it, 's, amazing, !, The, first, few, tracks, will, have, you, dancing, around, with, delight, (, especially, Scars, Left, by, Time, ), !, !, BUY, IT, NOW, !, !]                                                                                                               \n",
       "4  [There, 's, a, reason, this, CD, is, so, expensive, ,, even, the, version, that, 's, not, an, import.Some, of, the, best, music, ever, ., I, could, listen, to, every, track, every, minute, of, every, day, ., That, 's, about, all, i, can, say, .]                                                                                                                                                                                                                                                                                                                                                     "
      ]
     },
     "execution_count": 4,
     "metadata": {},
     "output_type": "execute_result"
    }
   ],
   "source": [
    "training_df[\"Review\"] = training_df[\"Review\"].apply(nltk.word_tokenize)\n",
    "\n",
    "training_df.head(5)"
   ]
  },
  {
   "cell_type": "code",
   "execution_count": 5,
   "metadata": {},
   "outputs": [],
   "source": [
    "MAX_WORDS = 2000\n",
    "word_list = []\n",
    "for tokenized_index in training_df[\"Review\"]:\n",
    "    for word in tokenized_index:\n",
    "        word_list.append(word.lower())\n",
    "    \n",
    "word_distribution = nltk.FreqDist(word_list)\n",
    "word_features = list(word_distribution.keys()) [:MAX_WORDS]"
   ]
  },
  {
   "cell_type": "code",
   "execution_count": 6,
   "metadata": {},
   "outputs": [],
   "source": [
    "# Determine whether the top MAX_WORDS words are contained in a review \n",
    "def find_features(review):\n",
    "    features = {}\n",
    "    for word in word_features:\n",
    "        features[word] = (word in review)\n",
    "        \n",
    "    return features"
   ]
  },
  {
   "cell_type": "code",
   "execution_count": 10,
   "metadata": {},
   "outputs": [],
   "source": [
    "training_feature_sets = []\n",
    "testing_feature_sets = []\n",
    "i = 0 # Annoying iterator but unsure of better method\n",
    "j = 0\n",
    "for review in training_df[\"Review\"]:\n",
    "    training_feature_sets.append((find_features(review), training_df[\"Rating\"].iloc[i]))\n",
    "    i += 1\n",
    "for review in testing_df[\"Review\"]:\n",
    "    testing_feature_sets.append((find_features(review), testing_df[\"Rating\"].iloc[j]))\n",
    "    j += 1"
   ]
  },
  {
   "cell_type": "code",
   "execution_count": 11,
   "metadata": {},
   "outputs": [
    {
     "name": "stdout",
     "output_type": "stream",
     "text": [
      "TEST: 0.295\n",
      "Most Informative Features\n",
      "                   waste = True                1 : 4      =     41.0 : 1.0\n",
      "                   worst = True                1 : 4      =     30.3 : 1.0\n",
      "                  refund = True                1 : 4      =     26.3 : 1.0\n",
      "                  poorly = True                1 : 5      =     24.5 : 1.0\n",
      "                 garbage = True                1 : 3      =     23.1 : 1.0\n",
      "                    junk = True                1 : 4      =     21.7 : 1.0\n",
      "               perfectly = True                5 : 2      =     21.3 : 1.0\n",
      "             predictable = True                2 : 5      =     20.6 : 1.0\n",
      "                horrible = True                1 : 4      =     17.9 : 1.0\n",
      "                terrible = True                1 : 4      =     17.7 : 1.0\n"
     ]
    }
   ],
   "source": [
    "classifier = nltk.NaiveBayesClassifier.train(training_feature_sets)\n",
    "print(\"TEST: {}\".format(nltk.classify.accuracy(classifier, testing_feature_sets)))\n",
    "classifier.show_most_informative_features(10)"
   ]
  },
  {
   "cell_type": "code",
   "execution_count": 53,
   "metadata": {},
   "outputs": [
    {
     "name": "stdout",
     "output_type": "stream",
     "text": [
      "Please enter a review:\n",
      "You will need a lot of time on your hands to read this book.  Exceptionally long, but worth it in the end.  Good work.\n",
      "We guess that you rate the product 4 out of 5 stars!\n"
     ]
    }
   ],
   "source": [
    "user_review = input(\"Please enter a review:\\n\")\n",
    "user_feature_set = []\n",
    "user_review = user_review.lower()\n",
    "user_feature_set.append((find_features(user_review), 3))\n",
    "\n",
    "guess = classifier.classify(user_feature_set[0][0])\n",
    "print(\"We guess that you rate the product {} out of 5 stars!\".format(guess))"
   ]
  }
 ],
 "metadata": {
  "kernelspec": {
   "display_name": "Python 3",
   "language": "python",
   "name": "python3"
  },
  "language_info": {
   "codemirror_mode": {
    "name": "ipython",
    "version": 3
   },
   "file_extension": ".py",
   "mimetype": "text/x-python",
   "name": "python",
   "nbconvert_exporter": "python",
   "pygments_lexer": "ipython3",
   "version": "3.6.4"
  }
 },
 "nbformat": 4,
 "nbformat_minor": 2
}
